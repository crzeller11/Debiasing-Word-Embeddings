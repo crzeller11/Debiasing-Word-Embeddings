{
 "cells": [
  {
   "cell_type": "code",
   "execution_count": null,
   "metadata": {},
   "outputs": [],
   "source": [
    "import pandas as pd\n",
    "from bokeh.plotting import figure, ColumnDataSource, show, output_notebook\n",
    "from bokeh.layouts import gridplot\n",
    "from bokeh.models import HoverTool, CategoricalColorMapper\n",
    "from bokeh.palettes import Set1_9 as PALETTE\n",
    "\n",
    "output_notebook()"
   ]
  },
  {
   "cell_type": "code",
   "execution_count": null,
   "metadata": {},
   "outputs": [],
   "source": [
    "df = pd.read_csv('results.csv', sep=' ')\n",
    "df = df.dropna()\n",
    "df.head()"
   ]
  },
  {
   "cell_type": "code",
   "execution_count": null,
   "metadata": {
    "scrolled": false
   },
   "outputs": [],
   "source": [
    "grid = []\n",
    "for subspace_source in df['subspace_pairs'].unique():\n",
    "    row = []\n",
    "    for debiasing in df['debiasing'].unique():\n",
    "        if debiasing == 'none':\n",
    "            continue\n",
    "        fig = figure(\n",
    "            width=400, height=300,\n",
    "            x_range=['none', debiasing],\n",
    "            y_range=[0, 0.0045],\n",
    "            title=f'Debiasing {subspace_source} with {debiasing}',\n",
    "        )\n",
    "        renderers = []\n",
    "        plot_df = df[\n",
    "            (df['subspace_pairs'] == subspace_source)\n",
    "            & (df['debiasing'].isin(['none', debiasing]))\n",
    "        ].copy()\n",
    "        #plot_df['line_color'] = df['subspace_algo'].apply(lambda algo: PALETTE[0] if algo == 'mean' else PALETTE[1])\n",
    "        uniq_values = plot_df[['subspace_seed', 'subspace_algo', 'bias_words']].drop_duplicates()\n",
    "        for subspace_seed, subspace_algo, bias_words in uniq_values.itertuples(index=False):\n",
    "            renderer = fig.line(\n",
    "                x='debiasing',\n",
    "                y='bias',\n",
    "                line_color=(PALETTE[0] if subspace_algo == 'mean' else PALETTE[1]),\n",
    "                source=ColumnDataSource(plot_df[\n",
    "                    (plot_df['subspace_seed'] == subspace_seed)\n",
    "                    & (plot_df['subspace_algo'] == subspace_algo)\n",
    "                    & (plot_df['bias_words'] == bias_words)\n",
    "                ]),\n",
    "            )\n",
    "            renderers.append(renderer)\n",
    "        fig.add_tools(HoverTool(renderers=renderers, tooltips=[\n",
    "            ('subspace_seed', '@subspace_seed'),\n",
    "            ('subspace_algo', '@subspace_algo'),\n",
    "            ('bias_words', '@bias_words'),\n",
    "            ('bias', '@bias'),\n",
    "        ]))\n",
    "        row.append(fig)\n",
    "    grid.append(row)\n",
    "show(gridplot(grid))"
   ]
  }
 ],
 "metadata": {
  "kernelspec": {
   "display_name": "Python 3",
   "language": "python",
   "name": "python3"
  },
  "language_info": {
   "codemirror_mode": {
    "name": "ipython",
    "version": 3
   },
   "file_extension": ".py",
   "mimetype": "text/x-python",
   "name": "python",
   "nbconvert_exporter": "python",
   "pygments_lexer": "ipython3",
   "version": "3.7.2"
  }
 },
 "nbformat": 4,
 "nbformat_minor": 2
}
